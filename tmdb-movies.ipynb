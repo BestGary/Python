{
 "cells": [
  {
   "cell_type": "markdown",
   "metadata": {},
   "source": [
    "\n",
    "# 探索影响电影评分的主要因素\n",
    "\n",
    "## 目录\n",
    "<ul>\n",
    "<li><a href=\"#intro\">简介</a></li>\n",
    "<li><a href=\"#wrangling\">数据整理</a></li>\n",
    "<li><a href=\"#eda\">探索性数据分析</a></li>\n",
    "<li><a href=\"#conclusions\">结论</a></li>\n",
    "</ul>\n",
    "\n",
    "<a id='intro'></a>\n",
    "## 简介\n",
    "\n",
    "> 在一部电影从拍摄到上映的过程中，每一步都会影响着电影最终的口碑，而决定一部电影水平的高低，所以通过网上的评分可以作为主要参考，现在我将用电影信息数据集进行探索影响电影评分的因素，并将分析过程记录下来，以供参考。"
   ]
  },
  {
   "cell_type": "markdown",
   "metadata": {},
   "source": [
    "## 问题：\n",
    "\n",
    "什么类型的电影风格评分最高？\n",
    "\n",
    "电影的预算与收入是否相关联？\n",
    "\n",
    "\n"
   ]
  },
  {
   "cell_type": "code",
   "execution_count": 96,
   "metadata": {},
   "outputs": [],
   "source": [
    "\n",
    "import pandas as pd\n",
    "import numpy as np\n",
    "import matplotlib.pyplot as plt\n",
    "import seaborn as sns\n",
    "% matplotlib inline\n",
    "df = pd.read_csv('tmdb-movies.csv')"
   ]
  },
  {
   "cell_type": "markdown",
   "metadata": {},
   "source": [
    "<a id='wrangling'></a>\n",
    "## 数据整理\n",
    "\n",
    "\n"
   ]
  },
  {
   "cell_type": "code",
   "execution_count": 97,
   "metadata": {
    "scrolled": true
   },
   "outputs": [
    {
     "name": "stdout",
     "output_type": "stream",
     "text": [
      "       id    imdb_id  popularity     budget     revenue  original_title  \\\n",
      "0  135397  tt0369610   32.985763  150000000  1513528810  Jurassic World   \n",
      "\n",
      "                                                cast  \\\n",
      "0  Chris Pratt|Bryce Dallas Howard|Irrfan Khan|Vi...   \n",
      "\n",
      "                        homepage         director            tagline  \\\n",
      "0  http://www.jurassicworld.com/  Colin Trevorrow  The park is open.   \n",
      "\n",
      "       ...                                                overview runtime  \\\n",
      "0      ...       Twenty-two years after the events of Jurassic ...     124   \n",
      "\n",
      "                                      genres  \\\n",
      "0  Action|Adventure|Science Fiction|Thriller   \n",
      "\n",
      "                                production_companies release_date vote_count  \\\n",
      "0  Universal Studios|Amblin Entertainment|Legenda...       6/9/15       5562   \n",
      "\n",
      "   vote_average  release_year    budget_adj   revenue_adj  \n",
      "0           6.5          2015  1.379999e+08  1.392446e+09  \n",
      "\n",
      "[1 rows x 21 columns]\n",
      "<class 'pandas.core.frame.DataFrame'>\n",
      "RangeIndex: 10866 entries, 0 to 10865\n",
      "Data columns (total 21 columns):\n",
      "id                      10866 non-null int64\n",
      "imdb_id                 10856 non-null object\n",
      "popularity              10866 non-null float64\n",
      "budget                  10866 non-null int64\n",
      "revenue                 10866 non-null int64\n",
      "original_title          10866 non-null object\n",
      "cast                    10790 non-null object\n",
      "homepage                2936 non-null object\n",
      "director                10822 non-null object\n",
      "tagline                 8042 non-null object\n",
      "keywords                9373 non-null object\n",
      "overview                10862 non-null object\n",
      "runtime                 10866 non-null int64\n",
      "genres                  10843 non-null object\n",
      "production_companies    9836 non-null object\n",
      "release_date            10866 non-null object\n",
      "vote_count              10866 non-null int64\n",
      "vote_average            10866 non-null float64\n",
      "release_year            10866 non-null int64\n",
      "budget_adj              10866 non-null float64\n",
      "revenue_adj             10866 non-null float64\n",
      "dtypes: float64(4), int64(6), object(11)\n",
      "memory usage: 1.7+ MB\n",
      "None\n"
     ]
    },
    {
     "data": {
      "text/plain": [
       "id                         0\n",
       "imdb_id                   10\n",
       "popularity                 0\n",
       "budget                     0\n",
       "revenue                    0\n",
       "original_title             0\n",
       "cast                      76\n",
       "homepage                7930\n",
       "director                  44\n",
       "tagline                 2824\n",
       "keywords                1493\n",
       "overview                   4\n",
       "runtime                    0\n",
       "genres                    23\n",
       "production_companies    1030\n",
       "release_date               0\n",
       "vote_count                 0\n",
       "vote_average               0\n",
       "release_year               0\n",
       "budget_adj                 0\n",
       "revenue_adj                0\n",
       "dtype: int64"
      ]
     },
     "execution_count": 97,
     "metadata": {},
     "output_type": "execute_result"
    }
   ],
   "source": [
    "print(df.head(1))\n",
    "print(df.info())\n",
    "\n",
    "df.isnull().sum()"
   ]
  },
  {
   "cell_type": "markdown",
   "metadata": {},
   "source": [
    "将存在冗余数据行进行整理，有一些数据有缺失值，而在问题一的探讨电影类型时，由于电影类型中存在多种类型，所以首先要先将类型进行提取，而这次探索的问题只要保留预算、收入、电影评分与电影风格种类就可以得出结论，所以其余不相关的数据列可以先忽略不计。\n"
   ]
  },
  {
   "cell_type": "markdown",
   "metadata": {},
   "source": [
    "> \n",
    "\n",
    "### 数据清理"
   ]
  },
  {
   "cell_type": "code",
   "execution_count": 98,
   "metadata": {},
   "outputs": [],
   "source": [
    "df.drop_duplicates( inplace =True)\n",
    "df.dropna(inplace = True)\n",
    "movie = df.loc[:,['id','budget','revenue','original_title','genres','vote_average']]"
   ]
  },
  {
   "cell_type": "code",
   "execution_count": 99,
   "metadata": {
    "scrolled": true
   },
   "outputs": [
    {
     "data": {
      "text/html": [
       "<div>\n",
       "<style scoped>\n",
       "    .dataframe tbody tr th:only-of-type {\n",
       "        vertical-align: middle;\n",
       "    }\n",
       "\n",
       "    .dataframe tbody tr th {\n",
       "        vertical-align: top;\n",
       "    }\n",
       "\n",
       "    .dataframe thead th {\n",
       "        text-align: right;\n",
       "    }\n",
       "</style>\n",
       "<table border=\"1\" class=\"dataframe\">\n",
       "  <thead>\n",
       "    <tr style=\"text-align: right;\">\n",
       "      <th></th>\n",
       "      <th>id</th>\n",
       "      <th>budget</th>\n",
       "      <th>revenue</th>\n",
       "      <th>original_title</th>\n",
       "      <th>genres</th>\n",
       "      <th>vote_average</th>\n",
       "      <th>genre</th>\n",
       "    </tr>\n",
       "  </thead>\n",
       "  <tbody>\n",
       "    <tr>\n",
       "      <th>0</th>\n",
       "      <td>135397</td>\n",
       "      <td>150000000</td>\n",
       "      <td>1513528810</td>\n",
       "      <td>Jurassic World</td>\n",
       "      <td>Action|Adventure|Science Fiction|Thriller</td>\n",
       "      <td>6.5</td>\n",
       "      <td>Action</td>\n",
       "    </tr>\n",
       "    <tr>\n",
       "      <th>0</th>\n",
       "      <td>135397</td>\n",
       "      <td>150000000</td>\n",
       "      <td>1513528810</td>\n",
       "      <td>Jurassic World</td>\n",
       "      <td>Action|Adventure|Science Fiction|Thriller</td>\n",
       "      <td>6.5</td>\n",
       "      <td>Adventure</td>\n",
       "    </tr>\n",
       "    <tr>\n",
       "      <th>0</th>\n",
       "      <td>135397</td>\n",
       "      <td>150000000</td>\n",
       "      <td>1513528810</td>\n",
       "      <td>Jurassic World</td>\n",
       "      <td>Action|Adventure|Science Fiction|Thriller</td>\n",
       "      <td>6.5</td>\n",
       "      <td>Science Fiction</td>\n",
       "    </tr>\n",
       "    <tr>\n",
       "      <th>0</th>\n",
       "      <td>135397</td>\n",
       "      <td>150000000</td>\n",
       "      <td>1513528810</td>\n",
       "      <td>Jurassic World</td>\n",
       "      <td>Action|Adventure|Science Fiction|Thriller</td>\n",
       "      <td>6.5</td>\n",
       "      <td>Thriller</td>\n",
       "    </tr>\n",
       "    <tr>\n",
       "      <th>1</th>\n",
       "      <td>76341</td>\n",
       "      <td>150000000</td>\n",
       "      <td>378436354</td>\n",
       "      <td>Mad Max: Fury Road</td>\n",
       "      <td>Action|Adventure|Science Fiction|Thriller</td>\n",
       "      <td>7.1</td>\n",
       "      <td>Action</td>\n",
       "    </tr>\n",
       "  </tbody>\n",
       "</table>\n",
       "</div>"
      ],
      "text/plain": [
       "       id     budget     revenue      original_title  \\\n",
       "0  135397  150000000  1513528810      Jurassic World   \n",
       "0  135397  150000000  1513528810      Jurassic World   \n",
       "0  135397  150000000  1513528810      Jurassic World   \n",
       "0  135397  150000000  1513528810      Jurassic World   \n",
       "1   76341  150000000   378436354  Mad Max: Fury Road   \n",
       "\n",
       "                                      genres  vote_average            genre  \n",
       "0  Action|Adventure|Science Fiction|Thriller           6.5           Action  \n",
       "0  Action|Adventure|Science Fiction|Thriller           6.5        Adventure  \n",
       "0  Action|Adventure|Science Fiction|Thriller           6.5  Science Fiction  \n",
       "0  Action|Adventure|Science Fiction|Thriller           6.5         Thriller  \n",
       "1  Action|Adventure|Science Fiction|Thriller           7.1           Action  "
      ]
     },
     "execution_count": 99,
     "metadata": {},
     "output_type": "execute_result"
    }
   ],
   "source": [
    "tmp = movie[\"genres\"].str.split(\"|\", expand=True).stack().reset_index(level=1,drop=True).rename('genre')\n",
    "movie.join(tmp).head()"
   ]
  },
  {
   "cell_type": "code",
   "execution_count": 100,
   "metadata": {},
   "outputs": [
    {
     "name": "stdout",
     "output_type": "stream",
     "text": [
      "<class 'pandas.core.frame.DataFrame'>\n",
      "Int64Index: 1992 entries, 0 to 10819\n",
      "Data columns (total 6 columns):\n",
      "id                1992 non-null int64\n",
      "budget            1992 non-null int64\n",
      "revenue           1992 non-null int64\n",
      "original_title    1992 non-null object\n",
      "genres            1992 non-null object\n",
      "vote_average      1992 non-null float64\n",
      "dtypes: float64(1), int64(3), object(2)\n",
      "memory usage: 188.9+ KB\n"
     ]
    }
   ],
   "source": [
    "movie.info()"
   ]
  },
  {
   "cell_type": "markdown",
   "metadata": {},
   "source": [
    "由于一部电影会有许多种类型分类，先将他的每个类型单独成行，然后算出每种类型的平均评分"
   ]
  },
  {
   "cell_type": "code",
   "execution_count": 101,
   "metadata": {},
   "outputs": [],
   "source": [
    "genre = movie.join(tmp)\n",
    "genre_mean = genre.groupby('genre')['vote_average'].mean()"
   ]
  },
  {
   "cell_type": "code",
   "execution_count": 102,
   "metadata": {
    "scrolled": true
   },
   "outputs": [
    {
     "data": {
      "text/plain": [
       "5.983304    1\n",
       "6.609091    1\n",
       "6.683333    1\n",
       "6.312214    1\n",
       "6.959140    1\n",
       "6.580357    1\n",
       "6.317729    1\n",
       "6.636111    1\n",
       "6.477059    1\n",
       "6.016094    1\n",
       "6.365752    1\n",
       "6.103195    1\n",
       "6.070447    1\n",
       "5.800000    1\n",
       "6.175248    1\n",
       "6.115000    1\n",
       "6.110811    1\n",
       "5.499267    1\n",
       "6.225086    1\n",
       "6.285837    1\n",
       "Name: vote_average, dtype: int64"
      ]
     },
     "execution_count": 102,
     "metadata": {},
     "output_type": "execute_result"
    }
   ],
   "source": [
    "genre_mean.value_counts()"
   ]
  },
  {
   "cell_type": "code",
   "execution_count": 103,
   "metadata": {
    "scrolled": true
   },
   "outputs": [
    {
     "data": {
      "text/plain": [
       "genre\n",
       "Documentary    6.95914\n",
       "Name: vote_average, dtype: float64"
      ]
     },
     "execution_count": 103,
     "metadata": {},
     "output_type": "execute_result"
    }
   ],
   "source": [
    "genre_mean[genre_mean == genre_mean.max()]"
   ]
  },
  {
   "cell_type": "code",
   "execution_count": 104,
   "metadata": {
    "scrolled": true
   },
   "outputs": [
    {
     "data": {
      "text/plain": [
       "genre\n",
       "Horror    5.499267\n",
       "Name: vote_average, dtype: float64"
      ]
     },
     "execution_count": 104,
     "metadata": {},
     "output_type": "execute_result"
    }
   ],
   "source": [
    "genre_mean[genre_mean == genre_mean.min()]"
   ]
  },
  {
   "cell_type": "markdown",
   "metadata": {},
   "source": [
    "取得最大评分类型是“Documentary”，最小评分类型是“Horror”"
   ]
  },
  {
   "cell_type": "code",
   "execution_count": 105,
   "metadata": {},
   "outputs": [
    {
     "data": {
      "text/plain": [
       "0.7472725961709475"
      ]
     },
     "execution_count": 105,
     "metadata": {},
     "output_type": "execute_result"
    }
   ],
   "source": [
    "df['budget'].corr(df['revenue'])"
   ]
  },
  {
   "cell_type": "markdown",
   "metadata": {},
   "source": [
    "观察一下“budget”与“budget”的相关系数，思考第二个问题探索数据的必要性"
   ]
  },
  {
   "cell_type": "code",
   "execution_count": 106,
   "metadata": {},
   "outputs": [],
   "source": [
    "data = df.loc[:,['budget','revenue','release_date']]\n",
    "data = data[ data['budget'] > 0]\n",
    "data = data[ data['revenue'] > 0]"
   ]
  },
  {
   "cell_type": "code",
   "execution_count": 107,
   "metadata": {},
   "outputs": [],
   "source": [
    "data.drop_duplicates(subset = 'revenue' , inplace = True)"
   ]
  },
  {
   "cell_type": "code",
   "execution_count": 108,
   "metadata": {},
   "outputs": [
    {
     "name": "stdout",
     "output_type": "stream",
     "text": [
      "<class 'pandas.core.frame.DataFrame'>\n",
      "Int64Index: 1285 entries, 0 to 10760\n",
      "Data columns (total 3 columns):\n",
      "budget          1285 non-null int64\n",
      "revenue         1285 non-null int64\n",
      "release_date    1285 non-null object\n",
      "dtypes: int64(2), object(1)\n",
      "memory usage: 40.2+ KB\n"
     ]
    }
   ],
   "source": [
    "data.info()"
   ]
  },
  {
   "cell_type": "markdown",
   "metadata": {},
   "source": [
    "为避免影响原数据，创建新的变量data来进行第二个问题的探索，并且对'budget','revenue'进行了空集筛选"
   ]
  },
  {
   "cell_type": "markdown",
   "metadata": {},
   "source": [
    "<a id='eda'></a>\n",
    "## 探索性数据分析\n",
    "\n",
    "\n",
    "\n",
    "### 研究问题 1（探索哪种电影类型的评分最高 ）"
   ]
  },
  {
   "cell_type": "code",
   "execution_count": 109,
   "metadata": {
    "scrolled": false
   },
   "outputs": [
    {
     "data": {
      "image/png": "[encoded data removed]",
      "text/plain": [
       "<matplotlib.figure.Figure at 0xcaca208>"
      ]
     },
     "metadata": {},
     "output_type": "display_data"
    }
   ],
   "source": [
    "genre_mean.plot.hist();\n",
    "genre_mean.sort_values().plot(kind = 'bar',title = 'genre\\'s mean',figsize = (16,6))\n",
    "plt.xlabel('Genre',fontsize = 16);\n",
    "plt.ylabel('Vote average',fontsize = 16);"
   ]
  },
  {
   "cell_type": "markdown",
   "metadata": {},
   "source": [
    "用柱形图可以看出，电影类型评分最高的是\"DocuDocumentary\"，评分最低的是\"Horror\",分值相差不大，而且从图中可以看出所有的电影类型之间的评分相差不大。"
   ]
  },
  {
   "cell_type": "markdown",
   "metadata": {},
   "source": [
    "### 研究问题 2：探索电影的预算与收入是否相关联。"
   ]
  },
  {
   "cell_type": "markdown",
   "metadata": {},
   "source": [
    "\n",
    "\n",
    "根据相关系数得知预算与收入是有相关联性的，通过散点图进行直观的判断"
   ]
  },
  {
   "cell_type": "code",
   "execution_count": 110,
   "metadata": {},
   "outputs": [
    {
     "data": {
      "image/png": "[encoded data removed]",
      "text/plain": [
       "<matplotlib.figure.Figure at 0xb9f7f28>"
      ]
     },
     "metadata": {},
     "output_type": "display_data"
    }
   ],
   "source": [
    "data.plot(kind = 'scatter',x = 'budget',y = 'revenue',figsize =(16,8));"
   ]
  },
  {
   "cell_type": "markdown",
   "metadata": {},
   "source": [
    "可以发现图中散点是从左下角向右上角的趋势散布，可以判断两个变量为正相关。所以在预算提高的情况下，收入也相对应的近似提高。并且在预算高于10^8时，收入几乎成倍增加，而在预算不高时，收入很少有显著的提高。"
   ]
  },
  {
   "cell_type": "markdown",
   "metadata": {},
   "source": [
    "<a id='conclusions'></a>\n",
    "## 结论\n",
    "\n",
    "> **问题1**：在进行电影类型评分探索中，经过了冗余删除与空值删除，剩余的数据样本在1992个，可以进行合理的数据分析来代表整体情况，已有的电影类型特征也足以概括数据集的所有样本。\n",
    "电影风格一共20种，其中评分最高的是\"DocuDocumentary\"，评分最低的是\"Horror\"，两者评分差距并不明显，而且通过各类型柱形图看出，各类型之间的差距都不是很大，所以得出结论，电影的类型并不是影响电影评分的重要因素，可见现在人们对电影的欣赏是多元化的，观众也更注重内容的好坏，不是很在乎电影的题材，而如果更注重电影评分的话，应该多试着去把重心放在其它影响电影评分的因素上。\n",
    "\n",
    "> **问题2**：在进行预算与收入的探索中，由于预算与收入存在许多数值为0的样本，将这些样本清理后样本还有1300的左右，数量上来看是足以进行分析的，清理后的数据可能会与实际有些偏差，但是不影响最终结论分析。\n",
    "关于电影的预算与收入的相关性探索，结论正如大家事先感觉的一样，两者呈正相关分布，电影预算的多少的确影响了票房收入，而且通过图中可以看出，高预算下的电影作品收入也是比大部分电影高的，而只有少数电影在低预算下能达到高收入的成绩，所以可以得出结论，如果作为一个电影制作人，想要得到好的票房收入，前期预算的多投入是必不可少的。\n",
    "\n"
   ]
  },
  {
   "cell_type": "code",
   "execution_count": null,
   "metadata": {},
   "outputs": [],
   "source": []
  }
 ],
 "metadata": {
  "kernelspec": {
   "display_name": "Python 3",
   "language": "python",
   "name": "python3"
  },
  "language_info": {
   "codemirror_mode": {
    "name": "ipython",
    "version": 3
   },
   "file_extension": ".py",
   "mimetype": "text/x-python",
   "name": "python",
   "nbconvert_exporter": "python",
   "pygments_lexer": "ipython3",
   "version": "3.6.4"
  }
 },
 "nbformat": 4,
 "nbformat_minor": 2
}
